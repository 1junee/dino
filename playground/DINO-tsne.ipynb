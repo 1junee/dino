{
 "cells": [
  {
   "cell_type": "markdown",
   "id": "72b1eedd-e64a-4ebe-8533-555190e96dfe",
   "metadata": {},
   "source": [
    "# Eval scripts"
   ]
  },
  {
   "cell_type": "raw",
   "id": "3e79f93f-eaf7-4acc-b033-846f00c79fa6",
   "metadata": {},
   "source": [
    "python3 eval_knn.py \\\n",
    "--arch vit_tiny \\\n",
    "--data_path data/all_in_moda \\\n",
    "--pretrained_weights results/all_in_moda_test_v0.1/checkpoint.pth \\\n",
    "--use_cuda 1"
   ]
  },
  {
   "cell_type": "raw",
   "id": "62b85989-b090-4997-8251-9761bebdf7ce",
   "metadata": {},
   "source": [
    "python3 eval_linear.py \\\n",
    "--arch vit_tiny \\\n",
    "--data_path data/all_in_moda \\\n",
    "--pretrained_weights results/all_in_moda_test_v0.1/checkpoint.pth"
   ]
  },
  {
   "cell_type": "code",
   "execution_count": 5,
   "id": "703082ab-d018-4ff4-9169-18142d19adb9",
   "metadata": {},
   "outputs": [
    {
     "name": "stdout",
     "output_type": "stream",
     "text": [
      "/home/counterfake/workstation/dino\n"
     ]
    }
   ],
   "source": [
    "%cd .."
   ]
  },
  {
   "cell_type": "code",
   "execution_count": 6,
   "id": "74840e24-2e65-4789-a2c5-14e64450b533",
   "metadata": {},
   "outputs": [],
   "source": [
    "import os\n",
    "import torch\n",
    "\n",
    "from PIL import Image\n",
    "\n",
    "import vision_transformer as vits "
   ]
  },
  {
   "cell_type": "markdown",
   "id": "8e688957-45e6-40e7-8384-cebc44c728f8",
   "metadata": {},
   "source": [
    "# Model Load"
   ]
  },
  {
   "cell_type": "code",
   "execution_count": 10,
   "id": "6158b352-dd95-4f1f-b99b-ea309ff59dd5",
   "metadata": {},
   "outputs": [],
   "source": [
    "dict_path  = \"results/all_in_moda_test_v0.1/checkpoint.pth\"\n",
    "arch       = \"vit_tiny\"\n",
    "patch_size = 16"
   ]
  },
  {
   "cell_type": "code",
   "execution_count": 11,
   "id": "5bebf4fc-06d4-4cdc-9726-761231c80b56",
   "metadata": {},
   "outputs": [],
   "source": [
    "state_dict = torch.load(dict_path, map_location=\"cpu\")"
   ]
  },
  {
   "cell_type": "code",
   "execution_count": 13,
   "id": "1ea89d85-c791-434e-a7ab-e458a8fd8976",
   "metadata": {},
   "outputs": [
    {
     "data": {
      "text/plain": [
       "dict_keys(['student', 'teacher', 'optimizer', 'epoch', 'args', 'dino_loss', 'fp16_scaler'])"
      ]
     },
     "execution_count": 13,
     "metadata": {},
     "output_type": "execute_result"
    }
   ],
   "source": [
    "state_dict.keys()"
   ]
  },
  {
   "cell_type": "code",
   "execution_count": 12,
   "id": "bc8f92ae-7ed7-436f-89be-b1f1b272d364",
   "metadata": {},
   "outputs": [],
   "source": [
    "backbone_model = vits.__dict__[arch](patch_size=patch_size, num_classes=0)"
   ]
  },
  {
   "cell_type": "markdown",
   "id": "8b4e7aa0-fe1b-4f51-961d-d44678757707",
   "metadata": {},
   "source": [
    "## Teacher and student Comparing"
   ]
  },
  {
   "cell_type": "code",
   "execution_count": null,
   "id": "2ba5fd5b-b473-4c7b-a79d-ec6cd3cb24d5",
   "metadata": {},
   "outputs": [],
   "source": [
    "student_model = \n",
    "teacher_model = \n",
    "\n",
    "student_model.fc = nn.Identity()\n",
    "teacher_model.fc = nn.Identity()"
   ]
  },
  {
   "cell_type": "markdown",
   "id": "803e4db9-2077-4908-837f-0a5986b97d22",
   "metadata": {},
   "source": [
    "# Dataloader"
   ]
  },
  {
   "cell_type": "code",
   "execution_count": null,
   "id": "2fd59376-4467-4605-a2c0-965bfd3ffa56",
   "metadata": {},
   "outputs": [],
   "source": [
    "dataset_val\n",
    "data_loader = torch.utils.data.DataLoader(\n",
    "    dataset,\n",
    "    batch_size = 256,\n",
    "    num_workers = 0,\n",
    "    pin_memory = True,\n",
    "    drop_last=False,\n",
    ")"
   ]
  }
 ],
 "metadata": {
  "kernelspec": {
   "display_name": "Python 3 (ipykernel)",
   "language": "python",
   "name": "python3"
  },
  "language_info": {
   "codemirror_mode": {
    "name": "ipython",
    "version": 3
   },
   "file_extension": ".py",
   "mimetype": "text/x-python",
   "name": "python",
   "nbconvert_exporter": "python",
   "pygments_lexer": "ipython3",
   "version": "3.8.5"
  }
 },
 "nbformat": 4,
 "nbformat_minor": 5
}
