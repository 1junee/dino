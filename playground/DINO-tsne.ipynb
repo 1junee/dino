{
 "cells": [
  {
   "cell_type": "code",
   "execution_count": 1,
   "id": "74840e24-2e65-4789-a2c5-14e64450b533",
   "metadata": {},
   "outputs": [],
   "source": [
    "import os\n",
    "import torch\n",
    "\n",
    "from PIL import Image"
   ]
  },
  {
   "cell_type": "markdown",
   "id": "8e688957-45e6-40e7-8384-cebc44c728f8",
   "metadata": {},
   "source": [
    "# Model Load"
   ]
  },
  {
   "cell_type": "code",
   "execution_count": 5,
   "id": "6158b352-dd95-4f1f-b99b-ea309ff59dd5",
   "metadata": {},
   "outputs": [],
   "source": [
    "dict_path = \"../results/all_in_moda_test_v0.1/checkpoint.pth\""
   ]
  },
  {
   "cell_type": "code",
   "execution_count": 6,
   "id": "5bebf4fc-06d4-4cdc-9726-761231c80b56",
   "metadata": {},
   "outputs": [],
   "source": [
    "checkpoint_dict = torch.load(dict_path)"
   ]
  },
  {
   "cell_type": "code",
   "execution_count": 7,
   "id": "2d1b3cc8-df29-4c5b-b6f2-b8f514125f1e",
   "metadata": {},
   "outputs": [
    {
     "data": {
      "text/plain": [
       "dict_keys(['student', 'teacher', 'optimizer', 'epoch', 'args', 'dino_loss', 'fp16_scaler'])"
      ]
     },
     "execution_count": 7,
     "metadata": {},
     "output_type": "execute_result"
    }
   ],
   "source": [
    "checkpoint_dict.keys()"
   ]
  },
  {
   "cell_type": "code",
   "execution_count": null,
   "id": "aab1a9ec-a87b-4396-a2c2-4a69c88482c1",
   "metadata": {},
   "outputs": [],
   "source": [
    "python3 eval_knn.py \\\n",
    "--arch vit_tiny \\\n",
    "--data_path data/all_in_moda \\\n",
    "--pretrained_weights results/all_in_moda_test_v0.1/checkpoint.pth \\\n",
    "--use_cuda "
   ]
  }
 ],
 "metadata": {
  "kernelspec": {
   "display_name": "Python 3 (ipykernel)",
   "language": "python",
   "name": "python3"
  },
  "language_info": {
   "codemirror_mode": {
    "name": "ipython",
    "version": 3
   },
   "file_extension": ".py",
   "mimetype": "text/x-python",
   "name": "python",
   "nbconvert_exporter": "python",
   "pygments_lexer": "ipython3",
   "version": "3.8.10"
  }
 },
 "nbformat": 4,
 "nbformat_minor": 5
}
