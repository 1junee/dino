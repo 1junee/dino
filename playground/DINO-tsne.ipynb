{
 "cells": [
  {
   "cell_type": "markdown",
   "id": "72b1eedd-e64a-4ebe-8533-555190e96dfe",
   "metadata": {},
   "source": [
    "# Eval scripts"
   ]
  },
  {
   "cell_type": "raw",
   "id": "3e79f93f-eaf7-4acc-b033-846f00c79fa6",
   "metadata": {},
   "source": [
    "python3 eval_knn.py \\\n",
    "--arch vit_tiny \\\n",
    "--data_path data/all_in_moda \\\n",
    "--pretrained_weights results/all_in_moda_test_v0.1/checkpoint.pth \\\n",
    "--use_cuda 1"
   ]
  },
  {
   "cell_type": "raw",
   "id": "62b85989-b090-4997-8251-9761bebdf7ce",
   "metadata": {},
   "source": [
    "python3 eval_linear.py \\\n",
    "--arch vit_tiny \\\n",
    "--data_path data/all_in_moda \\\n",
    "--pretrained_weights results/all_in_moda_test_v0.1/checkpoint.pth"
   ]
  },
  {
   "cell_type": "code",
   "execution_count": 1,
   "id": "703082ab-d018-4ff4-9169-18142d19adb9",
   "metadata": {},
   "outputs": [
    {
     "name": "stdout",
     "output_type": "stream",
     "text": [
      "/home/ekremezm/CounterfakeWorkspace/dino\n"
     ]
    }
   ],
   "source": [
    "%cd .."
   ]
  },
  {
   "cell_type": "code",
   "execution_count": 2,
   "id": "74840e24-2e65-4789-a2c5-14e64450b533",
   "metadata": {},
   "outputs": [],
   "source": [
    "import os\n",
    "import torch\n",
    "import numpy as np\n",
    "import pandas as pd\n",
    "import seaborn as sns\n",
    "import matplotlib.pyplot as plt\n",
    "\n",
    "from PIL import ImageFile\n",
    "from torchvision import datasets\n",
    "from torchvision import transforms \n",
    "from tqdm.notebook import tqdm\n",
    "from sklearn.manifold import TSNE\n",
    "\n",
    "import vision_transformer as vits \n",
    "\n",
    "ImageFile.LOAD_TRUNCATED_IMAGES = True"
   ]
  },
  {
   "cell_type": "markdown",
   "id": "8e688957-45e6-40e7-8384-cebc44c728f8",
   "metadata": {},
   "source": [
    "# Model Load"
   ]
  },
  {
   "cell_type": "code",
   "execution_count": 3,
   "id": "6158b352-dd95-4f1f-b99b-ea309ff59dd5",
   "metadata": {},
   "outputs": [],
   "source": [
    "dict_path      = \"results/all_in_moda_test_v0.1/checkpoint.pth\"\n",
    "arch           = \"vit_tiny\"\n",
    "checkpoint_key = \"student\"\n",
    "patch_size     = 16\n",
    "\n",
    "device = \"cuda\" if torch.cuda.is_available() else 'cpu'"
   ]
  },
  {
   "cell_type": "code",
   "execution_count": 4,
   "id": "bc8f92ae-7ed7-436f-89be-b1f1b272d364",
   "metadata": {},
   "outputs": [],
   "source": [
    "backbone_model = vits.__dict__[arch](patch_size = patch_size, num_classes = 0) "
   ]
  },
  {
   "cell_type": "code",
   "execution_count": 5,
   "id": "20b29ea3-94a7-476f-a25b-86ff828b96e7",
   "metadata": {},
   "outputs": [],
   "source": [
    "if \"vit\" in arch:\n",
    "    model = vits.__dict__[arch](patch_size = patch_size, num_classes = 0)\n",
    "\n",
    "elif \"xcit\" in arch:\n",
    "    model = torch.hub.load('facebookresearch/xcit:main', arch, num_classes=0)\n",
    "\n",
    "elif arch in torchvision_models.__dict__.keys():\n",
    "    model = torchvision_models.__dict__[arch](num_classes=0)\n",
    "    model.fc = nn.Identity()"
   ]
  },
  {
   "cell_type": "markdown",
   "id": "8b4e7aa0-fe1b-4f51-961d-d44678757707",
   "metadata": {},
   "source": [
    "## LoadModel"
   ]
  },
  {
   "cell_type": "code",
   "execution_count": 6,
   "id": "5bebf4fc-06d4-4cdc-9726-761231c80b56",
   "metadata": {},
   "outputs": [],
   "source": [
    "state_dict = torch.load(dict_path, map_location = \"cpu\")"
   ]
  },
  {
   "cell_type": "code",
   "execution_count": 7,
   "id": "dc9c3a58-fb69-499a-9c6f-6345011b2327",
   "metadata": {},
   "outputs": [],
   "source": [
    "state_dict = {k.replace(\"module.\", \"\"): v for k, v in state_dict.items()}\n",
    "state_dict = {k.replace(\"backbone.\", \"\"): v for k, v in state_dict.items()}"
   ]
  },
  {
   "cell_type": "code",
   "execution_count": 8,
   "id": "a56c9dbe-c402-46dd-9573-96112868c6ab",
   "metadata": {},
   "outputs": [],
   "source": [
    "state_dict = state_dict[checkpoint_key]\n",
    "\n",
    "state_dict = {k.replace(\"module.\", \"\"): v for k, v in state_dict.items()}\n",
    "state_dict = {k.replace(\"backbone.\", \"\"): v for k, v in state_dict.items()}\n",
    "\n",
    "model.load_state_dict(state_dict, strict = False)\n",
    "\n",
    "model.cuda()\n",
    "model = model.to(device)\n",
    "model = model.eval()"
   ]
  },
  {
   "cell_type": "markdown",
   "id": "803e4db9-2077-4908-837f-0a5986b97d22",
   "metadata": {},
   "source": [
    "# Dataloader"
   ]
  },
  {
   "cell_type": "code",
   "execution_count": 9,
   "id": "71ebf357-0612-43a3-a0f2-ea7c7deae601",
   "metadata": {},
   "outputs": [],
   "source": [
    "datapath = \"data/all_in_moda/test_tsne\""
   ]
  },
  {
   "cell_type": "code",
   "execution_count": 10,
   "id": "da5f66f8-8942-4352-97a0-5bcffb4a8418",
   "metadata": {},
   "outputs": [],
   "source": [
    "class ReturnIndexDataset(datasets.ImageFolder):\n",
    "    def __getitem__(self, idx):\n",
    "        img, lab = super(ReturnIndexDataset, self).__getitem__(idx)\n",
    "        return img, lab"
   ]
  },
  {
   "cell_type": "code",
   "execution_count": 11,
   "id": "e4864320-7129-459a-8a5f-f1b17daf523f",
   "metadata": {},
   "outputs": [],
   "source": [
    "transform = transforms.Compose([\n",
    "        transforms.Resize(256),\n",
    "        transforms.CenterCrop(224),\n",
    "        transforms.ToTensor(),\n",
    "        transforms.Normalize((0.485, 0.456, 0.406), (0.229, 0.224, 0.225)),\n",
    "    ])"
   ]
  },
  {
   "cell_type": "code",
   "execution_count": 12,
   "id": "2fd59376-4467-4605-a2c0-965bfd3ffa56",
   "metadata": {},
   "outputs": [],
   "source": [
    "dataset = ReturnIndexDataset(datapath, transform=transform)\n",
    "\n",
    "dataloader = torch.utils.data.DataLoader(\n",
    "    dataset,\n",
    "    batch_size  = 16,\n",
    "    num_workers = 1,\n",
    "    pin_memory  = True,\n",
    "    drop_last   = False,\n",
    ")"
   ]
  },
  {
   "cell_type": "markdown",
   "id": "1880fb05-fe24-42fe-89e4-4d8aceb95f4f",
   "metadata": {},
   "source": [
    "# Extract Features"
   ]
  },
  {
   "cell_type": "code",
   "execution_count": 13,
   "id": "ed41374e-4119-4597-a745-dc787c1c3653",
   "metadata": {},
   "outputs": [
    {
     "data": {
      "application/vnd.jupyter.widget-view+json": {
       "model_id": "c00bf340d0c04410be456d49de0b88e6",
       "version_major": 2,
       "version_minor": 0
      },
      "text/plain": [
       "  0%|                                                                                                         …"
      ]
     },
     "metadata": {},
     "output_type": "display_data"
    }
   ],
   "source": [
    "process = tqdm(dataloader, total = len(dataloader), ncols = 500)\n",
    "\n",
    "dataset_list = []\n",
    "\n",
    "for samples, labels in process:\n",
    "    if device == \"cuda\":\n",
    "        samples = samples.cuda(non_blocking=True)\n",
    "        labels  = labels.cuda(non_blocking=True)\n",
    "    \n",
    "    feats = model(samples)\n",
    "    \n",
    "    for i in range(len(labels)):\n",
    "        label = labels[i]\n",
    "        feat  = feats[i]\n",
    "        dataset_list.append({\n",
    "                             \"label\"       : label.item(),\n",
    "                             \"feat_cpu\"   : feat.cpu().detach().numpy(),\n",
    "                            })\n"
   ]
  },
  {
   "cell_type": "code",
   "execution_count": 14,
   "id": "8f096192-8774-4958-8d3c-cba2d328cd81",
   "metadata": {},
   "outputs": [],
   "source": [
    "df = pd.DataFrame(dataset_list)"
   ]
  },
  {
   "cell_type": "markdown",
   "id": "00bd3e3f-6a7d-4117-ab85-d4d567835b0d",
   "metadata": {},
   "source": [
    "# TSNE Graph"
   ]
  },
  {
   "cell_type": "code",
   "execution_count": 15,
   "id": "e232febb-07d4-4a45-a9ad-999608663687",
   "metadata": {},
   "outputs": [
    {
     "name": "stdout",
     "output_type": "stream",
     "text": [
      "[t-SNE] Computing 59 nearest neighbors...\n",
      "[t-SNE] Indexed 60 samples in 0.000s...\n",
      "[t-SNE] Computed neighbors for 60 samples in 0.002s...\n",
      "[t-SNE] Computed conditional probabilities for sample 60 / 60\n",
      "[t-SNE] Mean sigma: 10.552937\n",
      "[t-SNE] KL divergence after 250 iterations with early exaggeration: 52.510876\n",
      "[t-SNE] KL divergence after 1000 iterations: 0.245779\n"
     ]
    }
   ],
   "source": [
    "X = np.array(df['feat_cpu'].to_list())\n",
    "X = np.reshape(X, (X.shape[0], -1))\n",
    "\n",
    "X_tsne = TSNE(verbose = 1).fit_transform(X)"
   ]
  },
  {
   "cell_type": "code",
   "execution_count": 16,
   "id": "251b38ab-426f-4d06-aa64-728236920f6f",
   "metadata": {},
   "outputs": [
    {
     "data": {
      "image/png": "[encoded data removed]",
      "text/plain": [
       "<Figure size 400x400 with 1 Axes>"
      ]
     },
     "metadata": {},
     "output_type": "display_data"
    }
   ],
   "source": [
    "df[\"comp-1\"] = X_tsne[:,0]\n",
    "df[\"comp-2\"] = X_tsne[:,1]\n",
    "\n",
    "\n",
    "plt.figure(figsize = (5, 5), dpi = 80, facecolor = 'silver', edgecolor = 'gray')\n",
    "\n",
    "\n",
    "sns.scatterplot(x = \"comp-1\", y = \"comp-2\", hue = \"label\", s = 50, palette = sns.color_palette(\"Spectral\", as_cmap=True),\n",
    "            data = df).set(title = \"TSNE: {}\".format(checkpoint_key))\n",
    "\n",
    "plt.show()"
   ]
  },
  {
   "cell_type": "code",
   "execution_count": null,
   "id": "44d0e7de-111c-415d-b317-c3db61f1bda3",
   "metadata": {},
   "outputs": [],
   "source": []
  }
 ],
 "metadata": {
  "kernelspec": {
   "display_name": "Python 3 (ipykernel)",
   "language": "python",
   "name": "python3"
  },
  "language_info": {
   "codemirror_mode": {
    "name": "ipython",
    "version": 3
   },
   "file_extension": ".py",
   "mimetype": "text/x-python",
   "name": "python",
   "nbconvert_exporter": "python",
   "pygments_lexer": "ipython3",
   "version": "3.8.10"
  },
  "vscode": {
   "interpreter": {
    "hash": "916dbcbb3f70747c44a77c7bcd40155683ae19c65e1c03b4aa3499c5328201f1"
   }
  }
 },
 "nbformat": 4,
 "nbformat_minor": 5
}
